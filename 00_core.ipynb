{
 "cells": [
  {
   "cell_type": "code",
   "execution_count": null,
   "metadata": {},
   "outputs": [],
   "source": [
    "# default_exp core"
   ]
  },
  {
   "cell_type": "markdown",
   "metadata": {},
   "source": [
    "# PREPROCESSING METHODS\n",
    "\n",
    "> Developing a library to help with preprocessing text"
   ]
  },
  {
   "cell_type": "code",
   "execution_count": null,
   "metadata": {},
   "outputs": [],
   "source": [
    "#hide\n",
    "from nbdev.showdoc import *"
   ]
  },
  {
   "cell_type": "code",
   "execution_count": null,
   "metadata": {},
   "outputs": [],
   "source": [
    "#export\n",
    "def tokenize_sentence(untokenized_str):\n",
    "    \"\"\" Returns a tokenized string\n",
    "    Args:\n",
    "        untokenized_str : a given sentence\n",
    "        \n",
    "    Returns: list of words from the given sentence\n",
    "    \"\"\"\n",
    "    return [word for word in untokenized_str.split(\" \")]"
   ]
  },
  {
   "cell_type": "code",
   "execution_count": null,
   "metadata": {},
   "outputs": [
    {
     "data": {
      "text/plain": [
       "['This', 'sentence', 'will', 'be', 'tokenized', 'into', 'words']"
      ]
     },
     "execution_count": null,
     "metadata": {},
     "output_type": "execute_result"
    }
   ],
   "source": [
    "#Example for the function tokenize_sentence\n",
    "tokenize_sentence(\"This sentence will be tokenized into words\")"
   ]
  },
  {
   "cell_type": "code",
   "execution_count": null,
   "metadata": {},
   "outputs": [],
   "source": [
    "#Test for the function tokenize_sentence\n",
    "assert tokenize_sentence(\"this is a test\")==[\"this\",\"is\",\"a\",\"test\"]"
   ]
  },
  {
   "cell_type": "code",
   "execution_count": null,
   "metadata": {},
   "outputs": [],
   "source": [
    "#export\n",
    "def capitalize_every_word(random_str):\n",
    "    \"\"\" Returns a tokenized string\n",
    "    Args:\n",
    "        random_str : a given sentence\n",
    "        \n",
    "    Returns: a string with every word capitalized\n",
    "    \"\"\"\n",
    "    return random_str.title()"
   ]
  },
  {
   "cell_type": "code",
   "execution_count": null,
   "metadata": {},
   "outputs": [
    {
     "data": {
      "text/plain": [
       "'Every Word Should Begin With An Uppercase'"
      ]
     },
     "execution_count": null,
     "metadata": {},
     "output_type": "execute_result"
    }
   ],
   "source": [
    "#Example for the function capitalize_every_word\n",
    "capitalize_every_word(\"Every word should begin with an uppercase\")"
   ]
  },
  {
   "cell_type": "code",
   "execution_count": null,
   "metadata": {},
   "outputs": [
    {
     "name": "stdout",
     "output_type": "stream",
     "text": [
      "Converted 00_core.ipynb.\n",
      "Converted index.ipynb.\n"
     ]
    }
   ],
   "source": [
    "from nbdev.export import notebook2script; notebook2script()"
   ]
  }
 ],
 "metadata": {
  "kernelspec": {
   "display_name": "Python 3",
   "language": "python",
   "name": "python3"
  }
 },
 "nbformat": 4,
 "nbformat_minor": 2
}
